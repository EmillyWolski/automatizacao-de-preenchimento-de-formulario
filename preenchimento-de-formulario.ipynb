{
 "cells": [
  {
   "cell_type": "markdown",
   "id": "0c2fd7b5",
   "metadata": {},
   "source": [
    "# Automação Web com Selenium\n",
    "\n",
    "#### Python + Selenium\n",
    "\n",
    "- 2 requisitos:\n",
    "    - Instalar o Selenium\n",
    "    - Webdriver Manager"
   ]
  },
  {
   "cell_type": "code",
   "execution_count": null,
   "id": "bdaded39",
   "metadata": {},
   "outputs": [],
   "source": [
    "# Utilizar o Python para preencher um formulário na internet\n",
    "# Passo 1: Entrar em https://pages.hashtagtreinamentos.com/inscricao-minicurso-python-automacao-org?origemurl=hashtag_yt_org_minipython_videoselenium\n",
    "# Passo 2: Preencher nome, preencher e-mail\n",
    "# Passo 3: Clicar no botão para enviar o formulário"
   ]
  },
  {
   "cell_type": "code",
   "execution_count": 4,
   "id": "0e9c5e72",
   "metadata": {},
   "outputs": [],
   "source": [
    "# Importar o webdriver do Selenium\n",
    "from selenium import webdriver\n",
    "\n",
    "# Utilizando o webdriver manager\n",
    "from webdriver_manager.chrome import ChromeDriverManager\n",
    "from selenium.webdriver.chrome.service import Service\n",
    "\n",
    "# Identificar a versão do Chrome atual e instalar o chromedriver correspondente\n",
    "servico = Service(ChromeDriverManager().install())\n",
    "navegador = webdriver.Chrome(service=servico)\n",
    "\n",
    "# Passo 1:\n",
    "# Navegar para uma página específica\n",
    "navegador.get(\"https://pages.hashtagtreinamentos.com/inscricao-minicurso-python-automacao-org?origemurl=hashtag_yt_org_minipython_videoselenium\")\n",
    "\n",
    "# Passo 2:\n",
    "navegador.find_element('xpath', \n",
    "                       '//*[@id=\"section-10356508\"]/section/div[2]/div/div[2]/form/div[1]/div/div[1]/div/input').send_keys(\"Nome da Pessoa\")\n",
    "navegador.find_element('xpath', \n",
    "                       '//*[@id=\"section-10356508\"]/section/div[2]/div/div[2]/form/div[1]/div/div[2]/div/input').send_keys(\"emaildapessoa@gmail.com\")\n",
    "# Passo 3:\n",
    "navegador.find_element('xpath', '//*[@id=\"section-10356508\"]/section/div[2]/div/div[2]/form/div[1]/div/div[3]/div/input').send_keys(\"+554101010101\")\n",
    "\n",
    "# Passo 4:\n",
    "navegador.find_element('xpath', '//*[@id=\"section-10356508\"]/section/div[2]/div/div[2]/form/button').click()"
   ]
  }
 ],
 "metadata": {
  "kernelspec": {
   "display_name": "Python 3 (ipykernel)",
   "language": "python",
   "name": "python3"
  },
  "language_info": {
   "codemirror_mode": {
    "name": "ipython",
    "version": 3
   },
   "file_extension": ".py",
   "mimetype": "text/x-python",
   "name": "python",
   "nbconvert_exporter": "python",
   "pygments_lexer": "ipython3",
   "version": "3.9.13"
  }
 },
 "nbformat": 4,
 "nbformat_minor": 5
}
